{
  "nbformat": 4,
  "nbformat_minor": 0,
  "metadata": {
    "colab": {
      "provenance": [],
      "gpuType": "T4"
    },
    "kernelspec": {
      "name": "python3",
      "display_name": "Python 3"
    },
    "language_info": {
      "name": "python"
    },
    "accelerator": "GPU"
  },
  "cells": [
    {
      "cell_type": "code",
      "execution_count": 15,
      "metadata": {
        "colab": {
          "base_uri": "https://localhost:8080/"
        },
        "id": "RT4q24-qYjRb",
        "outputId": "c75ade84-6a95-40eb-d2b5-ce7003a07dd0"
      },
      "outputs": [
        {
          "output_type": "stream",
          "name": "stdout",
          "text": [
            "PyTorch is working!\n"
          ]
        }
      ],
      "source": [
        "import torch\n",
        "from torch import nn  # .linear, .conv, all nn modules included here\n",
        "import torch.optim as optim # all optimizationa algos here\n",
        "import torch.nn.functional as F   # for stuff without params (SOME activation fns)\n",
        "from torch.utils.data import DataLoader  # for batches\n",
        "\n",
        "import torchvision\n",
        "import torchvision.datasets as datasets   # imports standard datasets (mnist here)\n",
        "import torchvision.transforms as transforms\n",
        "\n",
        "import matplotlib.pyplot as plt\n",
        "import numpy as np\n",
        "\n",
        "print(\"PyTorch is working!\")"
      ]
    },
    {
      "cell_type": "code",
      "source": [
        "from IPython.display import Image\n",
        "Image('/content/1680257599468.jpg')"
      ],
      "metadata": {
        "id": "JFLXGpLBZwyy"
      },
      "execution_count": null,
      "outputs": []
    },
    {
      "cell_type": "markdown",
      "source": [
        "## LeNet-5 Architecture (1998)\n",
        "\n",
        "For **32×32 grayscale images**\n",
        "\n",
        "- **Input:** 32×32×1 (grayscale image)\n",
        "- **C1 - Convolutional Layer:** 6 filters of size 5×5, stride 1 → Output: 28×28×6\n",
        "- **S2 - Average Pooling Layer:** 2×2 pooling, stride 2 → Output: 14×14×6\n",
        "- **C3 - Convolutional Layer:** 16 filters of size 5×5 → Output: 10×10×16\n",
        "- **S4 - Average Pooling Layer:** 2×2 pooling, stride 2 → Output: 5×5×16\n",
        "- **C5 - Convolutional Layer (fully connected-like):** 120 filters of size 5×5 → Output: 1×1×120\n",
        "- **F6 - Fully Connected Layer:** 84 units\n",
        "- **Output Layer:** Fully connected layer with 10 units (for classification of digits 0–9)\n",
        "\n",
        "**Total Parameters:** ~60,000"
      ],
      "metadata": {
        "id": "GZQZ_HydQ7R-"
      }
    },
    {
      "cell_type": "code",
      "source": [
        "class LeNet(nn.Module):\n",
        "\n",
        "  def __init__(self):\n",
        "\n",
        "    super(LeNet, self).__init__()\n",
        "\n",
        "    self.features = nn.Sequential(\n",
        "\n",
        "        # C1 conv layer\n",
        "        # Input: 1x28x28 -> Output: 6x24x24 (28 - 5 + 1 = 24)\n",
        "        # in_channels = 1 (greyscale)\n",
        "        # out_channels = 6 filters\n",
        "        # kernel_size = 5(x5) size of filter\n",
        "        nn.Conv2d(in_channels = 1, out_channels = 6, kernel_size = 5),\n",
        "\n",
        "        # S1 Avg Pool 2×2 pooling, stride 2\n",
        "        # Output: 6x12x12 (24 / 2 = 12)\n",
        "        nn.AvgPool2d(kernel_size = 2, stride = 2),\n",
        "\n",
        "        # activation fn\n",
        "        nn.Tanh(),\n",
        "\n",
        "        # C2: Conv 16 filters of 5×5\n",
        "        # Input: 6x12x12 -> 16x8x8 (12 - 5 + 1 = 8)\n",
        "        nn.Conv2d(in_channels = 6, out_channels = 16, kernel_size = 5),\n",
        "\n",
        "        # S2 Avg pooling, stride = 2\n",
        "        # Output: 16x4x4 (8 / 2 = 4)\n",
        "        nn.AvgPool2d(2, 2),\n",
        "\n",
        "        nn.Tanh()\n",
        "    )\n",
        "\n",
        "    # Flattened input from conv layers: 16 channels * 4 * 4 = 256\n",
        "    # nn.Linear(input size, output size)\n",
        "    self.FC1 = nn.Linear(16 * 4 * 4, 120)\n",
        "    self.FC2 = nn.Linear(120, 84)\n",
        "    self.FC3 = nn.Linear(84, 10)  # 10 classes\n",
        "\n",
        "\n",
        "  def forward(self, x):\n",
        "\n",
        "    x = self.features(x)\n",
        "\n",
        "    #print(\"final output shape before fcn before reshaping: \", x.shape) #\n",
        "\n",
        "    x = torch.flatten(x, 1)\n",
        "\n",
        "    #print(\"final output shape before fcn: \", x.shape)   # 16, 16? is this correct?\n",
        "\n",
        "    \"\"\"\n",
        "    final output shape before fcn before reshaping:  torch.Size([64, 16, 4, 4])\n",
        "    final output shape before fcn:  torch.Size([64, 256])\n",
        "    \"\"\"\n",
        "\n",
        "    x = torch.tanh(self.FC1(x))   # fc1 + tanh\n",
        "    x = torch.tanh(self.FC2(x))   # fc2 + tanh\n",
        "    x = self.FC3(x)               # final output logits\n",
        "\n",
        "    #probs = nn.functional.softmax(x, dim = 1)\n",
        "\n",
        "    return x\n"
      ],
      "metadata": {
        "id": "3cWl5bgeYn_u"
      },
      "execution_count": 16,
      "outputs": []
    },
    {
      "cell_type": "code",
      "source": [
        "model = LeNet()\n",
        "model"
      ],
      "metadata": {
        "colab": {
          "base_uri": "https://localhost:8080/"
        },
        "id": "0TO_ywNIiF2D",
        "outputId": "1c9ebcd4-f8c0-449d-98a1-aaea78fb3b16"
      },
      "execution_count": 17,
      "outputs": [
        {
          "output_type": "execute_result",
          "data": {
            "text/plain": [
              "LeNet(\n",
              "  (features): Sequential(\n",
              "    (0): Conv2d(1, 6, kernel_size=(5, 5), stride=(1, 1))\n",
              "    (1): AvgPool2d(kernel_size=2, stride=2, padding=0)\n",
              "    (2): Tanh()\n",
              "    (3): Conv2d(6, 16, kernel_size=(5, 5), stride=(1, 1))\n",
              "    (4): AvgPool2d(kernel_size=2, stride=2, padding=0)\n",
              "    (5): Tanh()\n",
              "  )\n",
              "  (FC1): Linear(in_features=256, out_features=120, bias=True)\n",
              "  (FC2): Linear(in_features=120, out_features=84, bias=True)\n",
              "  (FC3): Linear(in_features=84, out_features=10, bias=True)\n",
              ")"
            ]
          },
          "metadata": {},
          "execution_count": 17
        }
      ]
    },
    {
      "cell_type": "code",
      "source": [
        "torch.manual_seed(123)\n",
        "\n",
        "# Hyperparameters\n",
        "learning_rate = 0.001\n",
        "batch_size = 64\n",
        "epochs = 10\n",
        "\n",
        "criterion = nn.CrossEntropyLoss()  # Cross entropy loss for classification\n",
        "optimizer = torch.optim.Adam(model.parameters(), lr = learning_rate)"
      ],
      "metadata": {
        "id": "0uzxpVtfiF4c"
      },
      "execution_count": 18,
      "outputs": []
    },
    {
      "cell_type": "code",
      "source": [
        "transform = transforms.Compose([transforms.ToTensor()])\n",
        "\n",
        "train = datasets.MNIST(root = 'MNISTdataset/', train = True, download = True, transform = transform)\n",
        "test = datasets.MNIST(root = 'MNISTdataset/', train = False, download = True, transform = transform)\n",
        "\n",
        "train_loader = DataLoader(dataset = train, batch_size = batch_size, shuffle = True)\n",
        "test_loader = DataLoader(dataset = test, batch_size = batch_size, shuffle = False)\n"
      ],
      "metadata": {
        "id": "IEshF8WwpigM"
      },
      "execution_count": 19,
      "outputs": []
    },
    {
      "cell_type": "code",
      "source": [
        "for images, labels in train_loader:\n",
        "    print('image batch dimensions:', images.shape)\n",
        "    print('label dimensions:', labels.shape)\n",
        "\n",
        "    break"
      ],
      "metadata": {
        "colab": {
          "base_uri": "https://localhost:8080/"
        },
        "id": "xPIIcnQ4iE9P",
        "outputId": "d6abb20a-0df7-49f8-83b4-a489606d6b05"
      },
      "execution_count": 20,
      "outputs": [
        {
          "output_type": "stream",
          "name": "stdout",
          "text": [
            "image batch dimensions: torch.Size([64, 1, 28, 28])\n",
            "label dimensions: torch.Size([64])\n"
          ]
        }
      ]
    },
    {
      "cell_type": "code",
      "source": [
        "loss_plt = []\n",
        "\n",
        "for epoch in range (epochs):\n",
        "\n",
        "  model.train()\n",
        "  running_loss = 0.0\n",
        "  correct = 0\n",
        "  total = 0\n",
        "\n",
        "\n",
        "  for i, (inputs, labels) in enumerate(train_loader):\n",
        "      # Zero the parameter gradients\n",
        "      optimizer.zero_grad()\n",
        "\n",
        "      # Forward pass\n",
        "      outputs = model(inputs)\n",
        "\n",
        "      # Calculate loss\n",
        "      loss = criterion(outputs, labels)\n",
        "\n",
        "      # Backward pass and optimization\n",
        "      loss.backward()\n",
        "      optimizer.step()\n",
        "\n",
        "      # Track statistics\n",
        "      running_loss += loss.item()\n",
        "      _, predicted = torch.max(outputs, 1)\n",
        "\n",
        "  avg_loss = running_loss / len(train_loader)\n",
        "  loss_plt.append(avg_loss)\n",
        "\n",
        "  print(f'Epoch [{epoch+1}/{epochs}], Average Loss: {avg_loss:.4f}')"
      ],
      "metadata": {
        "colab": {
          "base_uri": "https://localhost:8080/"
        },
        "id": "QDKx2CDwqLBG",
        "outputId": "2bad3ad8-8884-4ef1-d8bb-a045521fe39f",
        "collapsed": true
      },
      "execution_count": 21,
      "outputs": [
        {
          "output_type": "stream",
          "name": "stdout",
          "text": [
            "Epoch [1/10], Average Loss: 0.3163\n",
            "Epoch [2/10], Average Loss: 0.1150\n",
            "Epoch [3/10], Average Loss: 0.0799\n",
            "Epoch [4/10], Average Loss: 0.0627\n",
            "Epoch [5/10], Average Loss: 0.0507\n",
            "Epoch [6/10], Average Loss: 0.0432\n",
            "Epoch [7/10], Average Loss: 0.0376\n",
            "Epoch [8/10], Average Loss: 0.0317\n",
            "Epoch [9/10], Average Loss: 0.0259\n",
            "Epoch [10/10], Average Loss: 0.0230\n"
          ]
        }
      ]
    },
    {
      "cell_type": "code",
      "source": [
        "# Testing the model\n",
        "model.eval()  # Set model to evaluation mode\n",
        "correct = 0\n",
        "total = 0\n",
        "\n",
        "with torch.no_grad():  # No need to compute gradients during evaluation\n",
        "  for inputs, labels in test_loader:\n",
        "      outputs = model(inputs)\n",
        "      _, predicted = torch.max(outputs, 1)\n",
        "      total += labels.size(0)\n",
        "      correct += (predicted == labels).sum().item()\n",
        "\n",
        "print(f'Test Accuracy: {100 * correct/total:.2f}%')"
      ],
      "metadata": {
        "colab": {
          "base_uri": "https://localhost:8080/"
        },
        "id": "0hxxBR6rGOPz",
        "outputId": "54db6035-fa91-435d-97e8-842cb4b51dd4"
      },
      "execution_count": 22,
      "outputs": [
        {
          "output_type": "stream",
          "name": "stdout",
          "text": [
            "Test Accuracy: 98.27%\n"
          ]
        }
      ]
    },
    {
      "cell_type": "code",
      "source": [
        "# Create the loss plot\n",
        "plt.figure(figsize=(10, 5))\n",
        "plt.plot(loss_plt)\n",
        "plt.title('Training Loss per Batch (Average within Epoch)')\n",
        "plt.xlabel('Iteration (Batch)')\n",
        "plt.ylabel('Average Loss')\n",
        "plt.grid(True)\n",
        "plt.show()"
      ],
      "metadata": {
        "colab": {
          "base_uri": "https://localhost:8080/",
          "height": 487
        },
        "id": "1Gg_14PLoujR",
        "outputId": "6d51068d-f3f3-40f8-b4d7-da8147bc23ba"
      },
      "execution_count": 23,
      "outputs": [
        {
          "output_type": "display_data",
          "data": {
            "text/plain": [
              "<Figure size 1000x500 with 1 Axes>"
            ],
            "image/png": "[encoded data removed]"
          },
          "metadata": {}
        }
      ]
    }
  ]
}